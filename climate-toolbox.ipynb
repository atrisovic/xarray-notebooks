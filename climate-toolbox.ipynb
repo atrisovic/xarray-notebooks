{
 "cells": [
  {
   "cell_type": "code",
   "execution_count": 4,
   "metadata": {},
   "outputs": [],
   "source": [
    "from climate_toolbox.utils.utils import *"
   ]
  },
  {
   "cell_type": "code",
   "execution_count": 3,
   "metadata": {},
   "outputs": [],
   "source": [
    "import xarray as xr\n",
    "%matplotlib inline\n",
    "ds = xr.open_dataset(r'data\\CCSM4-rcp45-tasmax.nc4')"
   ]
  },
  {
   "cell_type": "markdown",
   "metadata": {},
   "source": [
    "## Standardize coordinates"
   ]
  },
  {
   "cell_type": "code",
   "execution_count": 5,
   "metadata": {},
   "outputs": [],
   "source": [
    "ds = rename_coords_to_longitude_and_latitude(ds)"
   ]
  },
  {
   "cell_type": "code",
   "execution_count": 6,
   "metadata": {},
   "outputs": [
    {
     "data": {
      "text/plain": [
       "<xarray.Dataset>\n",
       "Dimensions:    (latitude: 720, longitude: 1440, time: 12)\n",
       "Coordinates:\n",
       "  * time       (time) object 2008-01-01 12:00:00 ... 2008-12-01 12:00:00\n",
       "  * longitude  (longitude) float32 -179.875 -179.625 ... 179.625 179.875\n",
       "  * latitude   (latitude) float32 -89.875 -89.625 -89.375 ... 89.625 89.875\n",
       "Data variables:\n",
       "    tasmax     (time, latitude, longitude) float32 ...\n",
       "Attributes:\n",
       "    CDI:          Climate Data Interface version ?? (http://mpimet.mpg.de/cdi)\n",
       "    Conventions:  CF-1.6\n",
       "    history:      Fri Jul 26 17:44:32 2019: cdo splitday 1.0.nc4 out.nc4\n",
       "    version:      1.0\n",
       "    repo:         https://gitlab.com/ClimateImpactLab/dtr_fix/\n",
       "    frequency:    annual\n",
       "    oneline:      linear interpolates tasmax and tasmin in grids with tasmax ...\n",
       "    file:         /global/home/users/jsimcock/code/dtr_fix/dtr_fix.py\n",
       "    year:         2008\n",
       "    description:  linear interpolates tasmax and tasmin in grids with tasmax ...\n",
       "    execute:      python /global/home/users/jsimcock/code/dtr_fix/dtr_fix.py run\n",
       "    scenario:     rcp45\n",
       "    author:       Justin Simcock\n",
       "    project:      gcp\n",
       "    contact:      jsimcock@rhg.com\n",
       "    team:         climate\n",
       "    model:        CCSM4\n",
       "    CDO:          Climate Data Operators version 1.9.3 (http://mpimet.mpg.de/..."
      ]
     },
     "execution_count": 6,
     "metadata": {},
     "output_type": "execute_result"
    }
   ],
   "source": [
    "ds"
   ]
  },
  {
   "cell_type": "code",
   "execution_count": 12,
   "metadata": {},
   "outputs": [
    {
     "data": {
      "text/plain": [
       "<xarray.Dataset>\n",
       "Dimensions:    (latitude: 720, longitude: 1440, time: 12)\n",
       "Coordinates:\n",
       "  * time       (time) object 2008-01-01 12:00:00 ... 2008-12-01 12:00:00\n",
       "  * longitude  (longitude) float32 0.125 0.375 0.625 ... 359.375 359.625 359.875\n",
       "  * latitude   (latitude) float32 -89.875 -89.625 -89.375 ... 89.625 89.875\n",
       "Data variables:\n",
       "    tasmax     (time, latitude, longitude) float32 -541.66626 ... -579.0673\n",
       "Attributes:\n",
       "    CDI:          Climate Data Interface version ?? (http://mpimet.mpg.de/cdi)\n",
       "    Conventions:  CF-1.6\n",
       "    history:      Fri Jul 26 17:44:32 2019: cdo splitday 1.0.nc4 out.nc4\n",
       "    version:      1.0\n",
       "    repo:         https://gitlab.com/ClimateImpactLab/dtr_fix/\n",
       "    frequency:    annual\n",
       "    oneline:      linear interpolates tasmax and tasmin in grids with tasmax ...\n",
       "    file:         /global/home/users/jsimcock/code/dtr_fix/dtr_fix.py\n",
       "    year:         2008\n",
       "    description:  linear interpolates tasmax and tasmin in grids with tasmax ...\n",
       "    execute:      python /global/home/users/jsimcock/code/dtr_fix/dtr_fix.py run\n",
       "    scenario:     rcp45\n",
       "    author:       Justin Simcock\n",
       "    project:      gcp\n",
       "    contact:      jsimcock@rhg.com\n",
       "    team:         climate\n",
       "    model:        CCSM4\n",
       "    CDO:          Climate Data Operators version 1.9.3 (http://mpimet.mpg.de/..."
      ]
     },
     "execution_count": 12,
     "metadata": {},
     "output_type": "execute_result"
    }
   ],
   "source": [
    "# Convert longitude from -180-180 to 0-360\n",
    "ds = convert_lons_mono(ds)\n",
    "ds"
   ]
  },
  {
   "cell_type": "code",
   "execution_count": 7,
   "metadata": {},
   "outputs": [],
   "source": [
    "ds = remove_leap_days(ds)"
   ]
  },
  {
   "cell_type": "code",
   "execution_count": 10,
   "metadata": {},
   "outputs": [],
   "source": [
    "ds_C = convert_kelvin_to_celsius(ds, 'tasmax')"
   ]
  },
  {
   "cell_type": "code",
   "execution_count": null,
   "metadata": {},
   "outputs": [],
   "source": []
  }
 ],
 "metadata": {
  "kernelspec": {
   "display_name": "Python 3",
   "language": "python",
   "name": "python3"
  },
  "language_info": {
   "codemirror_mode": {
    "name": "ipython",
    "version": 3
   },
   "file_extension": ".py",
   "mimetype": "text/x-python",
   "name": "python",
   "nbconvert_exporter": "python",
   "pygments_lexer": "ipython3",
   "version": "3.7.4"
  }
 },
 "nbformat": 4,
 "nbformat_minor": 2
}
