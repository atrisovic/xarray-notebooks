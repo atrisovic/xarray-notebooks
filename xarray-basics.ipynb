{
 "cells": [
  {
   "cell_type": "markdown",
   "metadata": {},
   "source": [
    "# Introduction\n",
    "\n",
    "- Unlabelled, N-dimensional arrays of numbers are frequently used data structure in scientific computing. For example, sets of climate variables (e.g. temperature and precipitation) that vary in space and time and are represented on a regularly-spaced grid. Often we need to subset a large global grid to look at data for a particular region, or select a specific time slice. Then we might want to apply statistical functions to these subsetted groups to generate summary information [[1]](https://geohackweek.github.io/nDarrays/01-introduction/).\n",
    "\n",
    "- NetCDF (Network Common Data Form) developed for multidimensional scientific data\n",
    "\n",
    "    - __latitude x longitude x time x variable__\n",
    "\n",
    "![](http://xarray.pydata.org/en/stable/_images/dataset-diagram.png)\n",
    "\n",
    "- It has been widely adopted as a standard format for distributing N-dimensional arrays. \n",
    "\n",
    "- It is commonly used in climatology, meteorology and oceanography applications (e.g., weather forecasting, climate change, land cover, biomass) and GIS applications [[2]](https://en.wikipedia.org/wiki/NetCDF).\n",
    "\n",
    "- Originally used for climate data\n",
    "\n",
    "- File extension = `.nc` or sometimes `.nc4`\n",
    "\n",
    "- Compatible with ArcGIS\n",
    "\n",
    "- The Python programming language can operate with netCDF files with the `xarray` module (and also R)"
   ]
  },
  {
   "cell_type": "code",
   "execution_count": 3,
   "metadata": {
    "scrolled": false
   },
   "outputs": [],
   "source": [
    "# import the package\n",
    "import xarray as xr"
   ]
  },
  {
   "cell_type": "code",
   "execution_count": 2,
   "metadata": {},
   "outputs": [],
   "source": [
    "ds = xr.open_dataset(r'data\\CCSM4-rcp45-tasmax.nc4')"
   ]
  },
  {
   "cell_type": "markdown",
   "metadata": {},
   "source": [
    "## Dataset properties\n",
    "\n",
    "Datasets (storage model) have the following components:\n",
    "\n",
    "  - Dimensions (`dims`)  - record shape of the data (number of time points, number of latitudinal grid cells)\n",
    "  - Coordinates (`coords`) - list of coordinates, time points, longitudes and latitudes\n",
    "  - Data variables (`data_vars`) - hold data values, the shape is specified with a list of dimensions\n",
    "  - Attributes (`attrs`) - describe the variables (units)\n",
    "  \n",
    "  - Global attributes apply to the entire file - authors, provenance etc."
   ]
  },
  {
   "cell_type": "code",
   "execution_count": 3,
   "metadata": {},
   "outputs": [
    {
     "data": {
      "text/plain": [
       "<xarray.Dataset>\n",
       "Dimensions:  (lat: 720, lon: 1440, time: 12)\n",
       "Coordinates:\n",
       "  * time     (time) object 2008-01-01 12:00:00 ... 2008-12-01 12:00:00\n",
       "  * lon      (lon) float32 -179.875 -179.625 -179.375 ... 179.625 179.875\n",
       "  * lat      (lat) float32 -89.875 -89.625 -89.375 ... 89.375 89.625 89.875\n",
       "Data variables:\n",
       "    tasmax   (time, lat, lon) float32 ...\n",
       "Attributes:\n",
       "    CDI:          Climate Data Interface version ?? (http://mpimet.mpg.de/cdi)\n",
       "    Conventions:  CF-1.6\n",
       "    history:      Fri Jul 26 17:44:32 2019: cdo splitday 1.0.nc4 out.nc4\n",
       "    version:      1.0\n",
       "    repo:         https://gitlab.com/ClimateImpactLab/dtr_fix/\n",
       "    frequency:    annual\n",
       "    oneline:      linear interpolates tasmax and tasmin in grids with tasmax ...\n",
       "    file:         /global/home/users/jsimcock/code/dtr_fix/dtr_fix.py\n",
       "    year:         2008\n",
       "    description:  linear interpolates tasmax and tasmin in grids with tasmax ...\n",
       "    execute:      python /global/home/users/jsimcock/code/dtr_fix/dtr_fix.py run\n",
       "    scenario:     rcp45\n",
       "    author:       Justin Simcock\n",
       "    project:      gcp\n",
       "    contact:      jsimcock@rhg.com\n",
       "    team:         climate\n",
       "    model:        CCSM4\n",
       "    CDO:          Climate Data Operators version 1.9.3 (http://mpimet.mpg.de/..."
      ]
     },
     "execution_count": 3,
     "metadata": {},
     "output_type": "execute_result"
    }
   ],
   "source": [
    "ds"
   ]
  },
  {
   "cell_type": "code",
   "execution_count": 4,
   "metadata": {},
   "outputs": [],
   "source": [
    "temperature = ds.tasmax"
   ]
  },
  {
   "cell_type": "code",
   "execution_count": 5,
   "metadata": {},
   "outputs": [
    {
     "data": {
      "text/plain": [
       "<xarray.DataArray 'tasmax' (time: 12, lat: 720, lon: 1440)>\n",
       "[12441600 values with dtype=float32]\n",
       "Coordinates:\n",
       "  * time     (time) object 2008-01-01 12:00:00 ... 2008-12-01 12:00:00\n",
       "  * lon      (lon) float32 -179.875 -179.625 -179.375 ... 179.625 179.875\n",
       "  * lat      (lat) float32 -89.875 -89.625 -89.375 ... 89.375 89.625 89.875\n",
       "Attributes:\n",
       "    standard_name:     air_temperature\n",
       "    long_name:         Daily Maximum Near-Surface Air Temperature\n",
       "    units:             K\n",
       "    time:              365.5\n",
       "    original_name:     TREFHTMX\n",
       "    comment:           TREFHTMX no change\n",
       "    cell_methods:      time: maximum (interval: 1 day)\n",
       "    cell_measures:     area: areacella\n",
       "    history:           2011-11-09T20:45:21Z altered by CMOR: Treated scalar d...\n",
       "    associated_files:  baseURL: http://cmip-pcmdi.llnl.gov/CMIP5/dataLocation..."
      ]
     },
     "execution_count": 5,
     "metadata": {},
     "output_type": "execute_result"
    }
   ],
   "source": [
    "temperature"
   ]
  },
  {
   "cell_type": "code",
   "execution_count": 6,
   "metadata": {},
   "outputs": [
    {
     "data": {
      "text/plain": [
       "OrderedDict([('standard_name', 'air_temperature'),\n",
       "             ('long_name', 'Daily Maximum Near-Surface Air Temperature'),\n",
       "             ('units', 'K'),\n",
       "             ('time', 365.5),\n",
       "             ('original_name', 'TREFHTMX'),\n",
       "             ('comment', 'TREFHTMX no change'),\n",
       "             ('cell_methods', 'time: maximum (interval: 1 day)'),\n",
       "             ('cell_measures', 'area: areacella'),\n",
       "             ('history',\n",
       "              \"2011-11-09T20:45:21Z altered by CMOR: Treated scalar dimension: 'height'. 2011-11-09T20:45:21Z altered by CMOR: Reordered dimensions, original order: lat lon time. 2011-11-09T20:45:21Z altered by CMOR: replaced missing value flag (-1e+32) with standard missing value (1e+20).\"),\n",
       "             ('associated_files',\n",
       "              'baseURL: http://cmip-pcmdi.llnl.gov/CMIP5/dataLocation gridspecFile: gridspec_atmos_fx_CCSM4_rcp45_r0i0p0.nc areacella: areacella_fx_CCSM4_rcp45_r0i0p0.nc')])"
      ]
     },
     "execution_count": 6,
     "metadata": {},
     "output_type": "execute_result"
    }
   ],
   "source": [
    "temperature.attrs"
   ]
  },
  {
   "cell_type": "markdown",
   "metadata": {},
   "source": [
    "## Indexing\n",
    "\n",
    "Indexing is used to select specific elements from the dataset."
   ]
  },
  {
   "cell_type": "code",
   "execution_count": 8,
   "metadata": {},
   "outputs": [
    {
     "data": {
      "text/plain": [
       "<xarray.DataArray 'tasmax' ()>\n",
       "array(277.1034, dtype=float32)\n",
       "Coordinates:\n",
       "    time     object 2008-01-01 12:00:00\n",
       "    lon      float32 -179.875\n",
       "    lat      float32 -89.875\n",
       "Attributes:\n",
       "    standard_name:     air_temperature\n",
       "    long_name:         Daily Maximum Near-Surface Air Temperature\n",
       "    units:             K\n",
       "    time:              365.5\n",
       "    original_name:     TREFHTMX\n",
       "    comment:           TREFHTMX no change\n",
       "    cell_methods:      time: maximum (interval: 1 day)\n",
       "    cell_measures:     area: areacella\n",
       "    history:           2011-11-09T20:45:21Z altered by CMOR: Treated scalar d...\n",
       "    associated_files:  baseURL: http://cmip-pcmdi.llnl.gov/CMIP5/dataLocation..."
      ]
     },
     "execution_count": 8,
     "metadata": {},
     "output_type": "execute_result"
    }
   ],
   "source": [
    "# positional indexing\n",
    "temperature[0,0,0]"
   ]
  },
  {
   "cell_type": "code",
   "execution_count": 9,
   "metadata": {},
   "outputs": [
    {
     "data": {
      "text/plain": [
       "<xarray.DataArray 'tasmax' ()>\n",
       "array(277.1034, dtype=float32)\n",
       "Coordinates:\n",
       "    time     object 2008-01-01 12:00:00\n",
       "    lon      float32 -179.875\n",
       "    lat      float32 -89.875\n",
       "Attributes:\n",
       "    standard_name:     air_temperature\n",
       "    long_name:         Daily Maximum Near-Surface Air Temperature\n",
       "    units:             K\n",
       "    time:              365.5\n",
       "    original_name:     TREFHTMX\n",
       "    comment:           TREFHTMX no change\n",
       "    cell_methods:      time: maximum (interval: 1 day)\n",
       "    cell_measures:     area: areacella\n",
       "    history:           2011-11-09T20:45:21Z altered by CMOR: Treated scalar d...\n",
       "    associated_files:  baseURL: http://cmip-pcmdi.llnl.gov/CMIP5/dataLocation..."
      ]
     },
     "execution_count": 9,
     "metadata": {},
     "output_type": "execute_result"
    }
   ],
   "source": [
    "# isel refers to a selection by integer position\n",
    "temperature.isel(time=0, lat=0, lon=0)"
   ]
  },
  {
   "cell_type": "code",
   "execution_count": 11,
   "metadata": {},
   "outputs": [
    {
     "data": {
      "text/plain": [
       "<xarray.DataArray 'tasmax' (time: 1, lat: 720, lon: 1440)>\n",
       "[1036800 values with dtype=float32]\n",
       "Coordinates:\n",
       "  * time     (time) object 2008-01-01 12:00:00\n",
       "  * lon      (lon) float32 -179.875 -179.625 -179.375 ... 179.625 179.875\n",
       "  * lat      (lat) float32 -89.875 -89.625 -89.375 ... 89.375 89.625 89.875\n",
       "Attributes:\n",
       "    standard_name:     air_temperature\n",
       "    long_name:         Daily Maximum Near-Surface Air Temperature\n",
       "    units:             K\n",
       "    time:              365.5\n",
       "    original_name:     TREFHTMX\n",
       "    comment:           TREFHTMX no change\n",
       "    cell_methods:      time: maximum (interval: 1 day)\n",
       "    cell_measures:     area: areacella\n",
       "    history:           2011-11-09T20:45:21Z altered by CMOR: Treated scalar d...\n",
       "    associated_files:  baseURL: http://cmip-pcmdi.llnl.gov/CMIP5/dataLocation..."
      ]
     },
     "execution_count": 11,
     "metadata": {},
     "output_type": "execute_result"
    }
   ],
   "source": [
    "# positional indexing using labels\n",
    "temperature.loc['2008-01-01T12:00:00',:,:]"
   ]
  },
  {
   "cell_type": "code",
   "execution_count": 15,
   "metadata": {},
   "outputs": [
    {
     "data": {
      "text/plain": [
       "<xarray.DataArray 'tasmax' (time: 1)>\n",
       "array([229.54843], dtype=float32)\n",
       "Coordinates:\n",
       "  * time     (time) object 2008-01-01 12:00:00\n",
       "    lon      float32 179.625\n",
       "    lat      float32 89.375\n",
       "Attributes:\n",
       "    standard_name:     air_temperature\n",
       "    long_name:         Daily Maximum Near-Surface Air Temperature\n",
       "    units:             K\n",
       "    time:              365.5\n",
       "    original_name:     TREFHTMX\n",
       "    comment:           TREFHTMX no change\n",
       "    cell_methods:      time: maximum (interval: 1 day)\n",
       "    cell_measures:     area: areacella\n",
       "    history:           2011-11-09T20:45:21Z altered by CMOR: Treated scalar d...\n",
       "    associated_files:  baseURL: http://cmip-pcmdi.llnl.gov/CMIP5/dataLocation..."
      ]
     },
     "execution_count": 15,
     "metadata": {},
     "output_type": "execute_result"
    }
   ],
   "source": [
    "temperature.sel(time='2008-01-01T12:00:00', lat=89.375, lon=179.625)"
   ]
  },
  {
   "cell_type": "code",
   "execution_count": null,
   "metadata": {},
   "outputs": [],
   "source": []
  }
 ],
 "metadata": {
  "kernelspec": {
   "display_name": "Python 3",
   "language": "python",
   "name": "python3"
  },
  "language_info": {
   "codemirror_mode": {
    "name": "ipython",
    "version": 3
   },
   "file_extension": ".py",
   "mimetype": "text/x-python",
   "name": "python",
   "nbconvert_exporter": "python",
   "pygments_lexer": "ipython3",
   "version": "3.7.4"
  }
 },
 "nbformat": 4,
 "nbformat_minor": 2
}
